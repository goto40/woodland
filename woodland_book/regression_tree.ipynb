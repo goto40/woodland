{
 "cells": [
  {
   "cell_type": "markdown",
   "id": "b785f0ef-74bf-4c4c-9973-d939b796c466",
   "metadata": {},
   "source": [
    "# Regression trees\n",
    "\n",
    "Nett: https://www.youtube.com/watch?v=g9c66TUylZ4"
   ]
  },
  {
   "cell_type": "code",
   "execution_count": 1,
   "id": "6db03b80-1894-4553-8af8-b1b1e1608f3a",
   "metadata": {},
   "outputs": [
    {
     "data": {
      "image/png": "[encoded data removed]",
      "text/plain": [
       "<Figure size 432x288 with 1 Axes>"
      ]
     },
     "metadata": {
      "needs_background": "light"
     },
     "output_type": "display_data"
    }
   ],
   "source": [
    "from pylab import *\n",
    "\n",
    "y=[2, 1, 1, 1, 2, 1, 1, 1, 3, 5, 9, 12, 13, 12, 12, 12, 12, 12, 14, 12, 11, 12, 6, 5, 3, 2, 2, 3, 4, 6, 6, 8, 8, 9, 8, 8, 9];\n",
    "x = arange(len(y))\n",
    "plot(x,y,'b.');"
   ]
  },
  {
   "cell_type": "code",
   "execution_count": 2,
   "id": "691db9f8-718a-4d28-ae43-e8c2cd81d5d9",
   "metadata": {},
   "outputs": [
    {
     "data": {
      "image/png": "[encoded data removed]",
      "text/plain": [
       "<Figure size 432x288 with 1 Axes>"
      ]
     },
     "metadata": {
      "needs_background": "light"
     },
     "output_type": "display_data"
    }
   ],
   "source": [
    "from sklearn.tree import DecisionTreeRegressor\n",
    "\n",
    "d=[2,5]\n",
    "\n",
    "regr_1 = DecisionTreeRegressor(max_depth=d[0])\n",
    "regr_2 = DecisionTreeRegressor(max_depth=d[1])\n",
    "\n",
    "X = array(x).reshape(len(x),1);\n",
    "y = array(y).reshape(len(y),);\n",
    "regr_1.fit(X, y)\n",
    "regr_2.fit(X, y)\n",
    "\n",
    "X_test = linspace(x.min(), x.max(),200).reshape((-1,1))\n",
    "y_1 = regr_1.predict(X_test)\n",
    "y_2 = regr_2.predict(X_test)\n",
    "\n",
    "title(\"depth = max. depth of tree\")\n",
    "plot(X_test,y_1,'.', color='#ffee66', label=f\"depth={d[0]}\");\n",
    "plot(X_test,y_2,'.', color='#ffbb33', label=f\"depth={d[1]}\");\n",
    "plot(x,y,'b.', label='input')\n",
    "legend();"
   ]
  },
  {
   "cell_type": "code",
   "execution_count": 13,
   "id": "2066495d-03fe-4f65-a26e-88cd01415ab0",
   "metadata": {},
   "outputs": [
    {
     "name": "stdout",
     "output_type": "stream",
     "text": [
      "if ( x <= 9.5 ) {\n",
      "  if ( x <= 7.5 ) {\n",
      "    return [[1.25]]\n",
      "  } else {\n",
      "    return [[4.]]\n",
      "  }\n",
      "} else {\n",
      "  if ( x <= 21.5 ) {\n",
      "    return [[11.91666667]]\n",
      "  } else {\n",
      "    return [[5.8]]\n",
      "  }\n",
      "}\n"
     ]
    }
   ],
   "source": [
    "# adapted from https://stackoverflow.com/questions/20224526/how-to-extract-the-decision-rules-from-scikit-learn-decision-tree\n",
    "\n",
    "def get_code(tree, feature_names):\n",
    "    left      = tree.tree_.children_left\n",
    "    right     = tree.tree_.children_right\n",
    "    threshold = tree.tree_.threshold\n",
    "    features  = [feature_names[i] for i in tree.tree_.feature]\n",
    "    value = tree.tree_.value\n",
    "\n",
    "    def recurse(left, right, threshold, features, node, indent=0):\n",
    "        if (threshold[node] != -2):\n",
    "            print(\" \"*indent + \"if ( \" + features[node] + \" <= \" + str(threshold[node]) + \" ) {\")\n",
    "            if left[node] != -1:\n",
    "                recurse (left, right, threshold, features,left[node], indent+2)\n",
    "            print(\" \"*indent + \"} else {\")\n",
    "            if right[node] != -1:\n",
    "                recurse (left, right, threshold, features,right[node], indent+2)\n",
    "            print(\" \"*indent + \"}\")\n",
    "        else:\n",
    "            print(\" \"*(indent) + \"return \" + str(value[node]))\n",
    "\n",
    "    recurse(left, right, threshold, features, 0)\n",
    "\n",
    "get_code(regr_1,['x','y'])"
   ]
  },
  {
   "cell_type": "code",
   "execution_count": null,
   "id": "404e9ed5-c7e0-4c77-8392-93457e1805f5",
   "metadata": {},
   "outputs": [],
   "source": []
  }
 ],
 "metadata": {
  "kernelspec": {
   "display_name": "Python 3 (ipykernel)",
   "language": "python",
   "name": "python3"
  },
  "language_info": {
   "codemirror_mode": {
    "name": "ipython",
    "version": 3
   },
   "file_extension": ".py",
   "mimetype": "text/x-python",
   "name": "python",
   "nbconvert_exporter": "python",
   "pygments_lexer": "ipython3",
   "version": "3.9.7"
  }
 },
 "nbformat": 4,
 "nbformat_minor": 5
}
